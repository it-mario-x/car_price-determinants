{
 "cells": [
  {
   "cell_type": "markdown",
   "metadata": {},
   "source": [
    "# What drives the price of a car?\n",
    "\n",
    "![](images/kurt.jpeg)"
   ]
  },
  {
   "cell_type": "markdown",
   "metadata": {},
   "source": [
    "**OVERVIEW**\n",
    "\n",
    "In this application, you will explore a dataset from kaggle. The original dataset contained information on 3 million used cars. The provided dataset contains information on 426K cars to ensure speed of processing.  Your goal is to understand what factors make a car more or less expensive.  As a result of your analysis, you should provide clear recommendations to your client -- a used car dealership -- as to what consumers value in a used car."
   ]
  },
  {
   "cell_type": "markdown",
   "metadata": {},
   "source": [
    "### CRISP-DM Framework\n",
    "\n",
    "<center>\n",
    "    <img src = images/crisp.png width = 50%/>\n",
    "</center>\n",
    "\n",
    "\n",
    "To frame the task, throughout our practical applications we will refer back to a standard process in industry for data projects called CRISP-DM.  This process provides a framework for working through a data problem.  Your first step in this application will be to read through a brief overview of CRISP-DM [here](https://mo-pcco.s3.us-east-1.amazonaws.com/BH-PCMLAI/module_11/readings_starter.zip).  After reading the overview, answer the questions below."
   ]
  },
  {
   "cell_type": "markdown",
   "metadata": {},
   "source": [
    "### Business Understanding\n",
    "\n",
    "From a business perspective, we are tasked with identifying key drivers for used car prices.  In the CRISP-DM overview, we are asked to convert this business framing to a data problem definition.  Using a few sentences, reframe the task as a data task with the appropriate technical vocabulary. "
   ]
  },
  {
   "cell_type": "markdown",
   "metadata": {},
   "source": [
    "In this project, we need to understand what are the main factors that determine the price of a used car. \n",
    "\n",
    "To this purpose, we will use a dataset containing different characteritics of several used cars. The more the data, the more material we have to analyse. \n",
    "\n",
    "From this dataset, we will determine which features are important for a used car dealer."
   ]
  },
  {
   "cell_type": "markdown",
   "metadata": {},
   "source": [
    "### Data Understanding\n",
    "\n",
    "After considering the business understanding, we want to get familiar with our data.  Write down some steps that you would take to get to know the dataset and identify any quality issues within.  Take time to get to know the dataset and explore what information it contains and how this could be used to inform your business understanding."
   ]
  },
  {
   "cell_type": "code",
   "execution_count": 937,
   "metadata": {},
   "outputs": [],
   "source": [
    "import pandas as pd\n",
    "import numpy as np\n",
    "import matplotlib.pyplot as plt\n",
    "import math\n",
    "from scipy import stats\n",
    "from sklearn.compose import make_column_transformer, make_column_selector\n",
    "from sklearn.preprocessing import PolynomialFeatures, OneHotEncoder, OrdinalEncoder\n",
    "from sklearn.preprocessing import StandardScaler\n",
    "from sklearn.model_selection import train_test_split, GridSearchCV, cross_validate\n",
    "from sklearn.linear_model import LinearRegression, Ridge, Lasso\n",
    "from sklearn.metrics import mean_squared_error\n",
    "from sklearn.preprocessing import OneHotEncoder, OrdinalEncoder\n",
    "from sklearn.pipeline import Pipeline\n",
    "from sklearn import set_config\n",
    "set_config(display=\"diagram\")\n",
    "import warnings\n",
    "warnings.simplefilter(action='ignore', category=FutureWarning)"
   ]
  },
  {
   "cell_type": "code",
   "execution_count": 938,
   "metadata": {},
   "outputs": [],
   "source": [
    "from sklearn.feature_selection import SequentialFeatureSelector, SelectFromModel"
   ]
  },
  {
   "cell_type": "code",
   "execution_count": 939,
   "metadata": {},
   "outputs": [],
   "source": [
    "df = pd.read_csv('data/vehicles.csv')"
   ]
  },
  {
   "cell_type": "markdown",
   "metadata": {},
   "source": [
    "We firstly have a look in the data as a whole. We identify the number and names of columns, the number of rows, the number of null, nan values, data type."
   ]
  },
  {
   "cell_type": "code",
   "execution_count": 940,
   "metadata": {},
   "outputs": [
    {
     "name": "stdout",
     "output_type": "stream",
     "text": [
      "<class 'pandas.core.frame.DataFrame'>\n",
      "RangeIndex: 426880 entries, 0 to 426879\n",
      "Data columns (total 18 columns):\n",
      " #   Column        Non-Null Count   Dtype  \n",
      "---  ------        --------------   -----  \n",
      " 0   id            426880 non-null  int64  \n",
      " 1   region        426880 non-null  object \n",
      " 2   price         426880 non-null  int64  \n",
      " 3   year          425675 non-null  float64\n",
      " 4   manufacturer  409234 non-null  object \n",
      " 5   model         421603 non-null  object \n",
      " 6   condition     252776 non-null  object \n",
      " 7   cylinders     249202 non-null  object \n",
      " 8   fuel          423867 non-null  object \n",
      " 9   odometer      422480 non-null  float64\n",
      " 10  title_status  418638 non-null  object \n",
      " 11  transmission  424324 non-null  object \n",
      " 12  VIN           265838 non-null  object \n",
      " 13  drive         296313 non-null  object \n",
      " 14  size          120519 non-null  object \n",
      " 15  type          334022 non-null  object \n",
      " 16  paint_color   296677 non-null  object \n",
      " 17  state         426880 non-null  object \n",
      "dtypes: float64(2), int64(2), object(14)\n",
      "memory usage: 58.6+ MB\n"
     ]
    }
   ],
   "source": [
    "df.info()"
   ]
  },
  {
   "cell_type": "code",
   "execution_count": 941,
   "metadata": {},
   "outputs": [
    {
     "data": {
      "text/plain": [
       "id                   0\n",
       "region               0\n",
       "price                0\n",
       "year              1205\n",
       "manufacturer     17646\n",
       "model             5277\n",
       "condition       174104\n",
       "cylinders       177678\n",
       "fuel              3013\n",
       "odometer          4400\n",
       "title_status      8242\n",
       "transmission      2556\n",
       "VIN             161042\n",
       "drive           130567\n",
       "size            306361\n",
       "type             92858\n",
       "paint_color     130203\n",
       "state                0\n",
       "dtype: int64"
      ]
     },
     "execution_count": 941,
     "metadata": {},
     "output_type": "execute_result"
    }
   ],
   "source": [
    "df_nan = df.isna().sum()\n",
    "df_nan"
   ]
  },
  {
   "cell_type": "code",
   "execution_count": 942,
   "metadata": {},
   "outputs": [
    {
     "data": {
      "text/plain": [
       "(426880, 18)"
      ]
     },
     "execution_count": 942,
     "metadata": {},
     "output_type": "execute_result"
    }
   ],
   "source": [
    "df.shape"
   ]
  },
  {
   "cell_type": "code",
   "execution_count": 943,
   "metadata": {},
   "outputs": [
    {
     "data": {
      "image/png": "[encoded data removed]",
      "text/plain": [
       "<Figure size 460.8x403.2 with 1 Axes>"
      ]
     },
     "metadata": {},
     "output_type": "display_data"
    }
   ],
   "source": [
    "plt.bar(x=df_nan.sort_values(ascending=False).index, \n",
    "        height=df_nan.sort_values(ascending=False)/df.shape[0],\n",
    "        color='#d5ab09'\n",
    "       )\n",
    "plt.xticks(rotation=90)\n",
    "plt.xlabel('%')\n",
    "plt.ylabel('column')\n",
    "plt.title('Percentage of nan values per columns');\n"
   ]
  },
  {
   "cell_type": "markdown",
   "metadata": {},
   "source": [
    "We observe that the columns containing the highest proportion of nan values are:\n",
    "- Size\n",
    "- Cylinders\n",
    "- Condition\n",
    "- VIN\n",
    "- Drive\n",
    "- Paint color\n",
    "- Type\n",
    "\n",
    "These columns have nan values for more than 20% of the total number of rows. We cannot just drop the rows containing nan values since we risk ending up with very few data. For example if we do:"
   ]
  },
  {
   "cell_type": "code",
   "execution_count": 944,
   "metadata": {},
   "outputs": [
    {
     "name": "stdout",
     "output_type": "stream",
     "text": [
      "<class 'pandas.core.frame.DataFrame'>\n",
      "Int64Index: 34868 entries, 126 to 426836\n",
      "Data columns (total 18 columns):\n",
      " #   Column        Non-Null Count  Dtype  \n",
      "---  ------        --------------  -----  \n",
      " 0   id            34868 non-null  int64  \n",
      " 1   region        34868 non-null  object \n",
      " 2   price         34868 non-null  int64  \n",
      " 3   year          34868 non-null  float64\n",
      " 4   manufacturer  34868 non-null  object \n",
      " 5   model         34868 non-null  object \n",
      " 6   condition     34868 non-null  object \n",
      " 7   cylinders     34868 non-null  object \n",
      " 8   fuel          34868 non-null  object \n",
      " 9   odometer      34868 non-null  float64\n",
      " 10  title_status  34868 non-null  object \n",
      " 11  transmission  34868 non-null  object \n",
      " 12  VIN           34868 non-null  object \n",
      " 13  drive         34868 non-null  object \n",
      " 14  size          34868 non-null  object \n",
      " 15  type          34868 non-null  object \n",
      " 16  paint_color   34868 non-null  object \n",
      " 17  state         34868 non-null  object \n",
      "dtypes: float64(2), int64(2), object(14)\n",
      "memory usage: 5.1+ MB\n"
     ]
    }
   ],
   "source": [
    "df.dropna().info()"
   ]
  },
  {
   "cell_type": "markdown",
   "metadata": {},
   "source": [
    "Then, we oberve that we end up with only 34868 rows out of 426K rows, which represents ony"
   ]
  },
  {
   "cell_type": "code",
   "execution_count": 945,
   "metadata": {},
   "outputs": [
    {
     "data": {
      "text/plain": [
       "8.168103448275863"
      ]
     },
     "execution_count": 945,
     "metadata": {},
     "output_type": "execute_result"
    }
   ],
   "source": [
    "(34868 /426880 )*100"
   ]
  },
  {
   "cell_type": "markdown",
   "metadata": {},
   "source": [
    "**8.17%**. This can be a considerable loss of data. In order to know what we can do, we can explore the contents of the columns containing the most nan values and to explore possible workaround."
   ]
  },
  {
   "cell_type": "code",
   "execution_count": 946,
   "metadata": {},
   "outputs": [
    {
     "data": {
      "text/plain": [
       "size           306361\n",
       "cylinders      177678\n",
       "condition      174104\n",
       "VIN            161042\n",
       "drive          130567\n",
       "paint_color    130203\n",
       "type            92858\n",
       "dtype: int64"
      ]
     },
     "execution_count": 946,
     "metadata": {},
     "output_type": "execute_result"
    }
   ],
   "source": [
    "df_nan_analyse = df_nan.sort_values(ascending=False)[:7]\n",
    "df_nan_analyse"
   ]
  },
  {
   "cell_type": "markdown",
   "metadata": {},
   "source": [
    "We create a dictionary whose keys are the columns that contain NaN values. Besides, for each key, the value will be the different values in that column. \n",
    "\n",
    "This will help us to see whcih values can be used to replace missing ones."
   ]
  },
  {
   "cell_type": "code",
   "execution_count": 947,
   "metadata": {},
   "outputs": [],
   "source": [
    "dict_nan_unique = {}\n",
    "for col in (df_nan_analyse.index):\n",
    "    nan_val = df[col].unique()\n",
    "    dict_nan_unique[col] = nan_val\n",
    "    "
   ]
  },
  {
   "cell_type": "code",
   "execution_count": 948,
   "metadata": {},
   "outputs": [
    {
     "data": {
      "text/plain": [
       "{'size': array([nan, 'full-size', 'mid-size', 'compact', 'sub-compact'],\n",
       "       dtype=object),\n",
       " 'cylinders': array([nan, '8 cylinders', '6 cylinders', '4 cylinders', '5 cylinders',\n",
       "        'other', '3 cylinders', '10 cylinders', '12 cylinders'],\n",
       "       dtype=object),\n",
       " 'condition': array([nan, 'good', 'excellent', 'fair', 'like new', 'new', 'salvage'],\n",
       "       dtype=object),\n",
       " 'VIN': array([nan, '3GTP1VEC4EG551563', '1GCSCSE06AZ123805', ...,\n",
       "        '2HGES15535H620534', '1FDWF37P64EA24868', 'SAJGX2749VCOO8376'],\n",
       "       dtype=object),\n",
       " 'drive': array([nan, 'rwd', '4wd', 'fwd'], dtype=object),\n",
       " 'paint_color': array([nan, 'white', 'blue', 'red', 'black', 'silver', 'grey', 'brown',\n",
       "        'yellow', 'orange', 'green', 'custom', 'purple'], dtype=object),\n",
       " 'type': array([nan, 'pickup', 'truck', 'other', 'coupe', 'SUV', 'hatchback',\n",
       "        'mini-van', 'sedan', 'offroad', 'bus', 'van', 'convertible',\n",
       "        'wagon'], dtype=object)}"
      ]
     },
     "execution_count": 948,
     "metadata": {},
     "output_type": "execute_result"
    }
   ],
   "source": [
    "dict_nan_unique"
   ]
  },
  {
   "cell_type": "markdown",
   "metadata": {},
   "source": [
    "We can see that some characteristics are important like size, cylinders (which can determine gasoline consumption), condition, drive and type. But VIN (Vehicle Idnetification Number) is not revlevant at all. \n",
    "\n",
    "Since losing data in thiese columns would make us lose almost 20% of data in a column, we will fill the empty/nan values wit the most frequent but simialr one."
   ]
  },
  {
   "cell_type": "markdown",
   "metadata": {},
   "source": [
    "### Data Preparation\n",
    "\n",
    "After our initial exploration and fine tuning of the business understanding, it is time to construct our final dataset prior to modeling.  Here, we want to make sure to handle any integrity issues and cleaning, the engineering of new features, any transformations that we believe should happen (scaling, logarithms, normalization, etc.), and general preparation for modeling with `sklearn`. "
   ]
  },
  {
   "cell_type": "markdown",
   "metadata": {},
   "source": [
    "#### Filling in missing values with most frequent/similar value"
   ]
  },
  {
   "cell_type": "markdown",
   "metadata": {},
   "source": [
    "If we want to have a proper data cleaning, we need to fill in all missing values. Nevertheless, we need to take care of values that can be too different. For example, it is not the same a 4 cylinders than one with 12 cylinders."
   ]
  },
  {
   "cell_type": "markdown",
   "metadata": {},
   "source": [
    "We will take care of each columns for whcih more than its 20% values are missing. We need to do this because otherwise we might end up with very few daya.\n"
   ]
  },
  {
   "cell_type": "markdown",
   "metadata": {},
   "source": [
    "We begin by noticing that some columns don't bring added value like VIN or ID. And so we drop them.\n",
    "\n"
   ]
  },
  {
   "cell_type": "code",
   "execution_count": 949,
   "metadata": {},
   "outputs": [],
   "source": [
    "df.drop(columns=['VIN','id', 'state','region', 'state'], \n",
    "        inplace=True\n",
    "       )"
   ]
  },
  {
   "cell_type": "code",
   "execution_count": 950,
   "metadata": {},
   "outputs": [
    {
     "data": {
      "text/plain": [
       "array([nan, '3GTP1VEC4EG551563', '1GCSCSE06AZ123805', ...,\n",
       "       '2HGES15535H620534', '1FDWF37P64EA24868', 'SAJGX2749VCOO8376'],\n",
       "      dtype=object)"
      ]
     },
     "execution_count": 950,
     "metadata": {},
     "output_type": "execute_result"
    }
   ],
   "source": [
    "dict_nan_unique.pop('VIN')"
   ]
  },
  {
   "cell_type": "code",
   "execution_count": 951,
   "metadata": {},
   "outputs": [
    {
     "data": {
      "text/plain": [
       "{'size': array([nan, 'full-size', 'mid-size', 'compact', 'sub-compact'],\n",
       "       dtype=object),\n",
       " 'cylinders': array([nan, '8 cylinders', '6 cylinders', '4 cylinders', '5 cylinders',\n",
       "        'other', '3 cylinders', '10 cylinders', '12 cylinders'],\n",
       "       dtype=object),\n",
       " 'condition': array([nan, 'good', 'excellent', 'fair', 'like new', 'new', 'salvage'],\n",
       "       dtype=object),\n",
       " 'drive': array([nan, 'rwd', '4wd', 'fwd'], dtype=object),\n",
       " 'paint_color': array([nan, 'white', 'blue', 'red', 'black', 'silver', 'grey', 'brown',\n",
       "        'yellow', 'orange', 'green', 'custom', 'purple'], dtype=object),\n",
       " 'type': array([nan, 'pickup', 'truck', 'other', 'coupe', 'SUV', 'hatchback',\n",
       "        'mini-van', 'sedan', 'offroad', 'bus', 'van', 'convertible',\n",
       "        'wagon'], dtype=object)}"
      ]
     },
     "execution_count": 951,
     "metadata": {},
     "output_type": "execute_result"
    }
   ],
   "source": [
    "dict_nan_unique"
   ]
  },
  {
   "cell_type": "markdown",
   "metadata": {},
   "source": [
    "Now we create a dictionary that shows, for every column containing NaN, the count for every distinct value. This will help us to know which value is the most frequent one."
   ]
  },
  {
   "cell_type": "code",
   "execution_count": 952,
   "metadata": {},
   "outputs": [],
   "source": [
    "dict_count_uniques = {}\n",
    "for col_u in dict_nan_unique.keys():\n",
    "    \n",
    "    dict_count_uniques[str(col_u)] = {}\n",
    "    \n",
    "    for i,uniq_val in enumerate(dict_nan_unique[col_u]):\n",
    "        \n",
    "        text_uniq_val = str(uniq_val)\n",
    "        \n",
    "        if  text_uniq_val=='nan':\n",
    "        \n",
    "            dict_count_uniques[col_u]['NaN'] = None\n",
    "            count_unique = df[col_u].isna().sum()\n",
    "            dict_count_uniques[col_u]['NaN'] = count_unique\n",
    "\n",
    "        else:\n",
    "\n",
    "            dict_count_uniques[col_u][uniq_val] = None\n",
    "            count_unique = df[df[col_u]==uniq_val].shape[0]\n",
    "            dict_count_uniques[col_u][uniq_val] = count_unique"
   ]
  },
  {
   "cell_type": "code",
   "execution_count": 953,
   "metadata": {},
   "outputs": [
    {
     "data": {
      "text/plain": [
       "{'NaN': 306361,\n",
       " 'full-size': 63465,\n",
       " 'mid-size': 34476,\n",
       " 'compact': 19384,\n",
       " 'sub-compact': 3194}"
      ]
     },
     "execution_count": 953,
     "metadata": {},
     "output_type": "execute_result"
    }
   ],
   "source": [
    "# Example, We count, in the column 'size', how many appearance for evey unique value\n",
    "dict_count_uniques['size']"
   ]
  },
  {
   "cell_type": "code",
   "execution_count": 954,
   "metadata": {},
   "outputs": [
    {
     "data": {
      "text/plain": [
       "{'NaN': 177678,\n",
       " '8 cylinders': 72062,\n",
       " '6 cylinders': 94169,\n",
       " '4 cylinders': 77642,\n",
       " '5 cylinders': 1712,\n",
       " 'other': 1298,\n",
       " '3 cylinders': 655,\n",
       " '10 cylinders': 1455,\n",
       " '12 cylinders': 209}"
      ]
     },
     "execution_count": 954,
     "metadata": {},
     "output_type": "execute_result"
    }
   ],
   "source": [
    "# Example, We count, in the column 'cylinders', how many appearance for evey unique value\n",
    "dict_count_uniques['cylinders']"
   ]
  },
  {
   "cell_type": "markdown",
   "metadata": {},
   "source": [
    "We plot this dictionary in order to know the proportion of NaN values with repsect to other non-NaN values"
   ]
  },
  {
   "cell_type": "code",
   "execution_count": 955,
   "metadata": {},
   "outputs": [],
   "source": [
    "import warnings\n",
    "warnings.filterwarnings(\"ignore\")"
   ]
  },
  {
   "cell_type": "code",
   "execution_count": 956,
   "metadata": {},
   "outputs": [
    {
     "data": {
      "image/png": "[encoded data removed]",
      "text/plain": [
       "<Figure size 1440x1080 with 6 Axes>"
      ]
     },
     "metadata": {},
     "output_type": "display_data"
    }
   ],
   "source": [
    "fig,axis =plt.subplots(2,3,figsize=(20,15))\n",
    "colors=['blue','cyan','yellow','green','orange','pink']\n",
    "\n",
    "count=0\n",
    "for row  in np.arange(0,axis.shape[0]):\n",
    "    for col in np.arange(0,axis.shape[1]):\n",
    "        if (count<len(dict_count_uniques.keys())):\n",
    "                        \n",
    "            key_subplt = list(dict_count_uniques.keys())[count]\n",
    "            \n",
    "            x=list(dict_count_uniques[key_subplt].keys())\n",
    "            height = list(dict_count_uniques[key_subplt].values())\n",
    "            \n",
    "            axis[row][col].bar(x=x,\n",
    "                               height=height, \n",
    "                               color=colors[count]\n",
    "                              )\n",
    "\n",
    "            axis[row][col].set_xticklabels(x, rotation=90, size=20)\n",
    "            axis[row][col].set_title(key_subplt, size=24)\n",
    "\n",
    "            axis[row][col].grid(False)\n",
    "\n",
    "\n",
    "            count += 1\n",
    "        else:\n",
    "           \n",
    "            axis[row][col].axis('off')\n",
    "            \n",
    "fig.suptitle('Count of different values for columns containing NaN values',fontsize=30 )\n",
    "fig.tight_layout()\n"
   ]
  },
  {
   "cell_type": "code",
   "execution_count": 957,
   "metadata": {},
   "outputs": [],
   "source": [
    "df_cleaned = df.copy()"
   ]
  },
  {
   "cell_type": "code",
   "execution_count": 958,
   "metadata": {},
   "outputs": [],
   "source": [
    "df_cleaned['size'].fillna('full-size', inplace=True)\n",
    "df_cleaned['cylinders'].fillna('6 cylinders', inplace=True)\n",
    "df_cleaned['condition'].fillna('good', inplace=True)\n",
    "df_cleaned['drive'].fillna('4wd', inplace=True)\n",
    "df_cleaned['paint_color'].fillna('white', inplace=True)\n",
    "df_cleaned['type'].fillna('sedan', inplace=True)\n"
   ]
  },
  {
   "cell_type": "markdown",
   "metadata": {},
   "source": [
    "We check the proportion of null/NaN values in our cleaned dataframe"
   ]
  },
  {
   "cell_type": "code",
   "execution_count": 959,
   "metadata": {},
   "outputs": [
    {
     "name": "stdout",
     "output_type": "stream",
     "text": [
      "<class 'pandas.core.frame.DataFrame'>\n",
      "RangeIndex: 426880 entries, 0 to 426879\n",
      "Data columns (total 14 columns):\n",
      " #   Column        Non-Null Count   Dtype  \n",
      "---  ------        --------------   -----  \n",
      " 0   price         426880 non-null  int64  \n",
      " 1   year          425675 non-null  float64\n",
      " 2   manufacturer  409234 non-null  object \n",
      " 3   model         421603 non-null  object \n",
      " 4   condition     426880 non-null  object \n",
      " 5   cylinders     426880 non-null  object \n",
      " 6   fuel          423867 non-null  object \n",
      " 7   odometer      422480 non-null  float64\n",
      " 8   title_status  418638 non-null  object \n",
      " 9   transmission  424324 non-null  object \n",
      " 10  drive         426880 non-null  object \n",
      " 11  size          426880 non-null  object \n",
      " 12  type          426880 non-null  object \n",
      " 13  paint_color   426880 non-null  object \n",
      "dtypes: float64(2), int64(1), object(11)\n",
      "memory usage: 45.6+ MB\n"
     ]
    }
   ],
   "source": [
    "df_cleaned.info()"
   ]
  },
  {
   "cell_type": "code",
   "execution_count": 960,
   "metadata": {},
   "outputs": [],
   "source": [
    "df_cleaned.dropna(inplace=True)"
   ]
  },
  {
   "cell_type": "markdown",
   "metadata": {},
   "source": [
    "We ended up with 91% of data from the original datset."
   ]
  },
  {
   "cell_type": "code",
   "execution_count": 961,
   "metadata": {},
   "outputs": [
    {
     "data": {
      "text/plain": [
       "0.912678035982009"
      ]
     },
     "execution_count": 961,
     "metadata": {},
     "output_type": "execute_result"
    }
   ],
   "source": [
    "df_cleaned.shape[0]/df.shape[0]"
   ]
  },
  {
   "cell_type": "markdown",
   "metadata": {},
   "source": [
    "### Modeling\n",
    "\n",
    "With your (almost?) final dataset in hand, it is now time to build some models.  Here, you should build a number of different regression models with the price as the target.  In building your models, you should explore different parameters and be sure to cross-validate your findings."
   ]
  },
  {
   "cell_type": "markdown",
   "metadata": {},
   "source": [
    "We will analyze what seems to be the most relevant columns in the data set and we will confirm thanks to the mean squared error"
   ]
  },
  {
   "cell_type": "markdown",
   "metadata": {},
   "source": [
    "Firstly, we will apply a StandardScaler to a column containing numerical values. In our case, it is the odometer. In a general case, more than one columsn can be standardized in a similar way."
   ]
  },
  {
   "cell_type": "code",
   "execution_count": 962,
   "metadata": {},
   "outputs": [],
   "source": [
    "scaler = StandardScaler()\n",
    "df_cleaned['odometer'] = scaler.fit_transform(df_cleaned[['odometer']])\n"
   ]
  },
  {
   "cell_type": "markdown",
   "metadata": {},
   "source": [
    "Now, we define the X and y datsets. Since we are interested in the price, so y will be the price column.\n",
    "\n",
    "Then we divide our dataset in our train and test set"
   ]
  },
  {
   "cell_type": "code",
   "execution_count": 963,
   "metadata": {},
   "outputs": [],
   "source": [
    "X = df_cleaned.drop(columns=['price'])\n",
    "y = df_cleaned['price']\n",
    "\n",
    "X_train, X_test, y_train, y_test = train_test_split(X, y, test_size=0.3, random_state = 42)\n",
    "\n"
   ]
  },
  {
   "cell_type": "markdown",
   "metadata": {},
   "source": [
    "We will use 2 models:\n",
    "\n",
    "- Linear Regression Model\n",
    "- Ridge Model"
   ]
  },
  {
   "cell_type": "markdown",
   "metadata": {},
   "source": [
    "## Linear Regression Model"
   ]
  },
  {
   "cell_type": "markdown",
   "metadata": {},
   "source": [
    "There are different features in our dataset. Some are numerical, other are ordinal. We will limit the features that will be analysed so that we can focus in the principle, but this can be generalized to a greater extent. The features we chose are those for which we can expect to have agreta impact in the price."
   ]
  },
  {
   "cell_type": "code",
   "execution_count": 964,
   "metadata": {},
   "outputs": [],
   "source": [
    "polynom_ord_ohe = make_column_transformer((OneHotEncoder(drop = 'if_binary'), ['drive','size', 'cylinders'],\n",
    "                                           ),\n",
    "                                           (OrdinalEncoder(categories = [['good', 'excellent', 'fair', 'like new', 'new', 'salvage']]), \n",
    "                                            ['condition']\n",
    "                                           ),\n",
    "                                           (PolynomialFeatures(include_bias = False, degree = 3), ['odometer']\n",
    "                                           ),\n",
    "                                           remainder='passthrough'\n",
    "                                          )"
   ]
  },
  {
   "cell_type": "code",
   "execution_count": 965,
   "metadata": {},
   "outputs": [],
   "source": [
    "pipe_linreg = Pipeline([('transformer', polynom_ord_ohe), \n",
    "                        ('linreg', LinearRegression())\n",
    "                       ]\n",
    "                      )"
   ]
  },
  {
   "cell_type": "code",
   "execution_count": 966,
   "metadata": {},
   "outputs": [
    {
     "data": {
      "text/html": [
       "<style>#sk-2e590a5c-796d-4227-945a-a459d1f93fa0 {color: black;background-color: white;}#sk-2e590a5c-796d-4227-945a-a459d1f93fa0 pre{padding: 0;}#sk-2e590a5c-796d-4227-945a-a459d1f93fa0 div.sk-toggleable {background-color: white;}#sk-2e590a5c-796d-4227-945a-a459d1f93fa0 label.sk-toggleable__label {cursor: pointer;display: block;width: 100%;margin-bottom: 0;padding: 0.2em 0.3em;box-sizing: border-box;text-align: center;}#sk-2e590a5c-796d-4227-945a-a459d1f93fa0 div.sk-toggleable__content {max-height: 0;max-width: 0;overflow: hidden;text-align: left;background-color: #f0f8ff;}#sk-2e590a5c-796d-4227-945a-a459d1f93fa0 div.sk-toggleable__content pre {margin: 0.2em;color: black;border-radius: 0.25em;background-color: #f0f8ff;}#sk-2e590a5c-796d-4227-945a-a459d1f93fa0 input.sk-toggleable__control:checked~div.sk-toggleable__content {max-height: 200px;max-width: 100%;overflow: auto;}#sk-2e590a5c-796d-4227-945a-a459d1f93fa0 div.sk-estimator input.sk-toggleable__control:checked~label.sk-toggleable__label {background-color: #d4ebff;}#sk-2e590a5c-796d-4227-945a-a459d1f93fa0 div.sk-label input.sk-toggleable__control:checked~label.sk-toggleable__label {background-color: #d4ebff;}#sk-2e590a5c-796d-4227-945a-a459d1f93fa0 input.sk-hidden--visually {border: 0;clip: rect(1px 1px 1px 1px);clip: rect(1px, 1px, 1px, 1px);height: 1px;margin: -1px;overflow: hidden;padding: 0;position: absolute;width: 1px;}#sk-2e590a5c-796d-4227-945a-a459d1f93fa0 div.sk-estimator {font-family: monospace;background-color: #f0f8ff;margin: 0.25em 0.25em;border: 1px dotted black;border-radius: 0.25em;box-sizing: border-box;}#sk-2e590a5c-796d-4227-945a-a459d1f93fa0 div.sk-estimator:hover {background-color: #d4ebff;}#sk-2e590a5c-796d-4227-945a-a459d1f93fa0 div.sk-parallel-item::after {content: \"\";width: 100%;border-bottom: 1px solid gray;flex-grow: 1;}#sk-2e590a5c-796d-4227-945a-a459d1f93fa0 div.sk-label:hover label.sk-toggleable__label {background-color: #d4ebff;}#sk-2e590a5c-796d-4227-945a-a459d1f93fa0 div.sk-serial::before {content: \"\";position: absolute;border-left: 1px solid gray;box-sizing: border-box;top: 2em;bottom: 0;left: 50%;}#sk-2e590a5c-796d-4227-945a-a459d1f93fa0 div.sk-serial {display: flex;flex-direction: column;align-items: center;background-color: white;}#sk-2e590a5c-796d-4227-945a-a459d1f93fa0 div.sk-item {z-index: 1;}#sk-2e590a5c-796d-4227-945a-a459d1f93fa0 div.sk-parallel {display: flex;align-items: stretch;justify-content: center;background-color: white;}#sk-2e590a5c-796d-4227-945a-a459d1f93fa0 div.sk-parallel-item {display: flex;flex-direction: column;position: relative;background-color: white;}#sk-2e590a5c-796d-4227-945a-a459d1f93fa0 div.sk-parallel-item:first-child::after {align-self: flex-end;width: 50%;}#sk-2e590a5c-796d-4227-945a-a459d1f93fa0 div.sk-parallel-item:last-child::after {align-self: flex-start;width: 50%;}#sk-2e590a5c-796d-4227-945a-a459d1f93fa0 div.sk-parallel-item:only-child::after {width: 0;}#sk-2e590a5c-796d-4227-945a-a459d1f93fa0 div.sk-dashed-wrapped {border: 1px dashed gray;margin: 0.2em;box-sizing: border-box;padding-bottom: 0.1em;background-color: white;position: relative;}#sk-2e590a5c-796d-4227-945a-a459d1f93fa0 div.sk-label label {font-family: monospace;font-weight: bold;background-color: white;display: inline-block;line-height: 1.2em;}#sk-2e590a5c-796d-4227-945a-a459d1f93fa0 div.sk-label-container {position: relative;z-index: 2;text-align: center;}#sk-2e590a5c-796d-4227-945a-a459d1f93fa0 div.sk-container {display: inline-block;position: relative;}</style><div id=\"sk-2e590a5c-796d-4227-945a-a459d1f93fa0\" class\"sk-top-container\"><div class=\"sk-container\"><div class=\"sk-item sk-dashed-wrapped\"><div class=\"sk-label-container\"><div class=\"sk-label sk-toggleable\"><input class=\"sk-toggleable__control sk-hidden--visually\" id=\"125b39d3-3725-4316-8668-6a94dd3f2bf4\" type=\"checkbox\" ><label class=\"sk-toggleable__label\" for=\"125b39d3-3725-4316-8668-6a94dd3f2bf4\">Pipeline</label><div class=\"sk-toggleable__content\"><pre>Pipeline(steps=[('transformer',\n",
       "                 ColumnTransformer(remainder='passthrough',\n",
       "                                   transformers=[('onehotencoder',\n",
       "                                                  OneHotEncoder(drop='if_binary'),\n",
       "                                                  ['drive', 'size',\n",
       "                                                   'cylinders']),\n",
       "                                                 ('ordinalencoder',\n",
       "                                                  OrdinalEncoder(categories=[['good',\n",
       "                                                                              'excellent',\n",
       "                                                                              'fair',\n",
       "                                                                              'like '\n",
       "                                                                              'new',\n",
       "                                                                              'new',\n",
       "                                                                              'salvage']]),\n",
       "                                                  ['condition']),\n",
       "                                                 ('polynomialfeatures',\n",
       "                                                  PolynomialFeatures(degree=3,\n",
       "                                                                     include_bias=False),\n",
       "                                                  ['odometer'])])),\n",
       "                ('linreg', LinearRegression())])</pre></div></div></div><div class=\"sk-serial\"><div class=\"sk-item sk-dashed-wrapped\"><div class=\"sk-label-container\"><div class=\"sk-label sk-toggleable\"><input class=\"sk-toggleable__control sk-hidden--visually\" id=\"5e382c35-c0c4-49d9-a802-41c7e0f053f4\" type=\"checkbox\" ><label class=\"sk-toggleable__label\" for=\"5e382c35-c0c4-49d9-a802-41c7e0f053f4\">transformer: ColumnTransformer</label><div class=\"sk-toggleable__content\"><pre>ColumnTransformer(remainder='passthrough',\n",
       "                  transformers=[('onehotencoder',\n",
       "                                 OneHotEncoder(drop='if_binary'),\n",
       "                                 ['drive', 'size', 'cylinders']),\n",
       "                                ('ordinalencoder',\n",
       "                                 OrdinalEncoder(categories=[['good',\n",
       "                                                             'excellent',\n",
       "                                                             'fair', 'like new',\n",
       "                                                             'new',\n",
       "                                                             'salvage']]),\n",
       "                                 ['condition']),\n",
       "                                ('polynomialfeatures',\n",
       "                                 PolynomialFeatures(degree=3,\n",
       "                                                    include_bias=False),\n",
       "                                 ['odometer'])])</pre></div></div></div><div class=\"sk-parallel\"><div class=\"sk-parallel-item\"><div class=\"sk-item\"><div class=\"sk-label-container\"><div class=\"sk-label sk-toggleable\"><input class=\"sk-toggleable__control sk-hidden--visually\" id=\"0200f34d-6f8b-4a8c-b717-0a927e42f5a8\" type=\"checkbox\" ><label class=\"sk-toggleable__label\" for=\"0200f34d-6f8b-4a8c-b717-0a927e42f5a8\">onehotencoder</label><div class=\"sk-toggleable__content\"><pre>['drive', 'size', 'cylinders']</pre></div></div></div><div class=\"sk-serial\"><div class=\"sk-item\"><div class=\"sk-estimator sk-toggleable\"><input class=\"sk-toggleable__control sk-hidden--visually\" id=\"bdaf9513-83e8-46d9-9550-5ab6a71be2ee\" type=\"checkbox\" ><label class=\"sk-toggleable__label\" for=\"bdaf9513-83e8-46d9-9550-5ab6a71be2ee\">OneHotEncoder</label><div class=\"sk-toggleable__content\"><pre>OneHotEncoder(drop='if_binary')</pre></div></div></div></div></div></div><div class=\"sk-parallel-item\"><div class=\"sk-item\"><div class=\"sk-label-container\"><div class=\"sk-label sk-toggleable\"><input class=\"sk-toggleable__control sk-hidden--visually\" id=\"ac609590-5836-45f2-b20b-ad73a3f09fb7\" type=\"checkbox\" ><label class=\"sk-toggleable__label\" for=\"ac609590-5836-45f2-b20b-ad73a3f09fb7\">ordinalencoder</label><div class=\"sk-toggleable__content\"><pre>['condition']</pre></div></div></div><div class=\"sk-serial\"><div class=\"sk-item\"><div class=\"sk-estimator sk-toggleable\"><input class=\"sk-toggleable__control sk-hidden--visually\" id=\"ff216045-19d0-4dd7-a41f-c7213bb8e6fe\" type=\"checkbox\" ><label class=\"sk-toggleable__label\" for=\"ff216045-19d0-4dd7-a41f-c7213bb8e6fe\">OrdinalEncoder</label><div class=\"sk-toggleable__content\"><pre>OrdinalEncoder(categories=[['good', 'excellent', 'fair', 'like new', 'new',\n",
       "                            'salvage']])</pre></div></div></div></div></div></div><div class=\"sk-parallel-item\"><div class=\"sk-item\"><div class=\"sk-label-container\"><div class=\"sk-label sk-toggleable\"><input class=\"sk-toggleable__control sk-hidden--visually\" id=\"35b18e7b-f58e-4cf6-87b7-3de7adf0f367\" type=\"checkbox\" ><label class=\"sk-toggleable__label\" for=\"35b18e7b-f58e-4cf6-87b7-3de7adf0f367\">polynomialfeatures</label><div class=\"sk-toggleable__content\"><pre>['odometer']</pre></div></div></div><div class=\"sk-serial\"><div class=\"sk-item\"><div class=\"sk-estimator sk-toggleable\"><input class=\"sk-toggleable__control sk-hidden--visually\" id=\"7efcef5f-80b6-4974-8754-15e1f68abdb8\" type=\"checkbox\" ><label class=\"sk-toggleable__label\" for=\"7efcef5f-80b6-4974-8754-15e1f68abdb8\">PolynomialFeatures</label><div class=\"sk-toggleable__content\"><pre>PolynomialFeatures(degree=3, include_bias=False)</pre></div></div></div></div></div></div><div class=\"sk-parallel-item\"><div class=\"sk-item\"><div class=\"sk-label-container\"><div class=\"sk-label sk-toggleable\"><input class=\"sk-toggleable__control sk-hidden--visually\" id=\"f87a5c89-45e5-4bad-ae69-1f2fdf7de576\" type=\"checkbox\" ><label class=\"sk-toggleable__label\" for=\"f87a5c89-45e5-4bad-ae69-1f2fdf7de576\">remainder</label><div class=\"sk-toggleable__content\"><pre>[['drive', 'condition', 'odometer', 'size', 'cylinders']]</pre></div></div></div><div class=\"sk-serial\"><div class=\"sk-item\"><div class=\"sk-estimator sk-toggleable\"><input class=\"sk-toggleable__control sk-hidden--visually\" id=\"e1116322-40a7-44d5-a838-c46f332464a6\" type=\"checkbox\" ><label class=\"sk-toggleable__label\" for=\"e1116322-40a7-44d5-a838-c46f332464a6\">passthrough</label><div class=\"sk-toggleable__content\"><pre>passthrough</pre></div></div></div></div></div></div></div></div><div class=\"sk-item\"><div class=\"sk-estimator sk-toggleable\"><input class=\"sk-toggleable__control sk-hidden--visually\" id=\"463f7ec1-2b1a-4c29-8eaa-c60bd113c9af\" type=\"checkbox\" ><label class=\"sk-toggleable__label\" for=\"463f7ec1-2b1a-4c29-8eaa-c60bd113c9af\">LinearRegression</label><div class=\"sk-toggleable__content\"><pre>LinearRegression()</pre></div></div></div></div></div></div></div>"
      ],
      "text/plain": [
       "Pipeline(steps=[('transformer',\n",
       "                 ColumnTransformer(remainder='passthrough',\n",
       "                                   transformers=[('onehotencoder',\n",
       "                                                  OneHotEncoder(drop='if_binary'),\n",
       "                                                  ['drive', 'size',\n",
       "                                                   'cylinders']),\n",
       "                                                 ('ordinalencoder',\n",
       "                                                  OrdinalEncoder(categories=[['good',\n",
       "                                                                              'excellent',\n",
       "                                                                              'fair',\n",
       "                                                                              'like '\n",
       "                                                                              'new',\n",
       "                                                                              'new',\n",
       "                                                                              'salvage']]),\n",
       "                                                  ['condition']),\n",
       "                                                 ('polynomialfeatures',\n",
       "                                                  PolynomialFeatures(degree=3,\n",
       "                                                                     include_bias=False),\n",
       "                                                  ['odometer'])])),\n",
       "                ('linreg', LinearRegression())])"
      ]
     },
     "execution_count": 966,
     "metadata": {},
     "output_type": "execute_result"
    }
   ],
   "source": [
    "pipe_linreg.fit(X_train[['drive','condition','odometer','size', 'cylinders']], \n",
    "                y_train\n",
    "               )\n"
   ]
  },
  {
   "cell_type": "code",
   "execution_count": 967,
   "metadata": {},
   "outputs": [],
   "source": [
    "linreg_train_preds = pipe_linreg.predict(X_train[['drive','condition','odometer','size', 'cylinders']])\n",
    "linreg_test_preds  = pipe_linreg.predict(X_test[['drive','condition','odometer','size', 'cylinders']])\n",
    "\n",
    "linreg_mse_train = mean_squared_error(y_train, linreg_train_preds)\n",
    "linreg_mse_test = mean_squared_error(y_test, linreg_test_preds)"
   ]
  },
  {
   "cell_type": "markdown",
   "metadata": {},
   "source": [
    "This model shows an error of :"
   ]
  },
  {
   "cell_type": "code",
   "execution_count": 968,
   "metadata": {},
   "outputs": [
    {
     "name": "stdout",
     "output_type": "stream",
     "text": [
      "Mean Squared Error for train set of linear regression= 72839994466161.97\n",
      "Mean Squared Error for test set of linear regression= 266941162206023.75\n"
     ]
    }
   ],
   "source": [
    "print('Mean Squared Error for train set of linear regression=', linreg_mse_train)\n",
    "print('Mean Squared Error for test set of linear regression=', linreg_mse_test)"
   ]
  },
  {
   "cell_type": "markdown",
   "metadata": {},
   "source": [
    "We notice that the test mean square error is bigger than the one for the train set."
   ]
  },
  {
   "cell_type": "code",
   "execution_count": 969,
   "metadata": {},
   "outputs": [
    {
     "data": {
      "text/plain": [
       "array([ 2.59989969e+04, -1.86656375e+04, -7.33335939e+03, -3.82094821e+03,\n",
       "        1.68593877e+04, -7.27589968e+03, -5.76253979e+03, -1.53039544e+04,\n",
       "        1.81446608e+04,  9.57781294e+02, -3.29944899e+03, -9.18716112e+03,\n",
       "        2.82100578e+04, -1.57339034e+04, -3.78803194e+03,  2.73548318e+03,\n",
       "        1.48201970e+04, -1.27218283e+03,  1.89683498e+01])"
      ]
     },
     "execution_count": 969,
     "metadata": {},
     "output_type": "execute_result"
    }
   ],
   "source": [
    "pipe_linreg.named_steps['linreg'].coef_"
   ]
  },
  {
   "cell_type": "markdown",
   "metadata": {},
   "source": [
    "## Ridge Model"
   ]
  },
  {
   "cell_type": "markdown",
   "metadata": {},
   "source": [
    "The second model will be a Ridge Model for which we verify which alpha is the best to chose thanks to a GridSearchCV."
   ]
  },
  {
   "cell_type": "code",
   "execution_count": 970,
   "metadata": {},
   "outputs": [
    {
     "data": {
      "text/html": [
       "<style>#sk-1586aa1f-2da7-4b0e-bb1e-8003cb2b1d92 {color: black;background-color: white;}#sk-1586aa1f-2da7-4b0e-bb1e-8003cb2b1d92 pre{padding: 0;}#sk-1586aa1f-2da7-4b0e-bb1e-8003cb2b1d92 div.sk-toggleable {background-color: white;}#sk-1586aa1f-2da7-4b0e-bb1e-8003cb2b1d92 label.sk-toggleable__label {cursor: pointer;display: block;width: 100%;margin-bottom: 0;padding: 0.2em 0.3em;box-sizing: border-box;text-align: center;}#sk-1586aa1f-2da7-4b0e-bb1e-8003cb2b1d92 div.sk-toggleable__content {max-height: 0;max-width: 0;overflow: hidden;text-align: left;background-color: #f0f8ff;}#sk-1586aa1f-2da7-4b0e-bb1e-8003cb2b1d92 div.sk-toggleable__content pre {margin: 0.2em;color: black;border-radius: 0.25em;background-color: #f0f8ff;}#sk-1586aa1f-2da7-4b0e-bb1e-8003cb2b1d92 input.sk-toggleable__control:checked~div.sk-toggleable__content {max-height: 200px;max-width: 100%;overflow: auto;}#sk-1586aa1f-2da7-4b0e-bb1e-8003cb2b1d92 div.sk-estimator input.sk-toggleable__control:checked~label.sk-toggleable__label {background-color: #d4ebff;}#sk-1586aa1f-2da7-4b0e-bb1e-8003cb2b1d92 div.sk-label input.sk-toggleable__control:checked~label.sk-toggleable__label {background-color: #d4ebff;}#sk-1586aa1f-2da7-4b0e-bb1e-8003cb2b1d92 input.sk-hidden--visually {border: 0;clip: rect(1px 1px 1px 1px);clip: rect(1px, 1px, 1px, 1px);height: 1px;margin: -1px;overflow: hidden;padding: 0;position: absolute;width: 1px;}#sk-1586aa1f-2da7-4b0e-bb1e-8003cb2b1d92 div.sk-estimator {font-family: monospace;background-color: #f0f8ff;margin: 0.25em 0.25em;border: 1px dotted black;border-radius: 0.25em;box-sizing: border-box;}#sk-1586aa1f-2da7-4b0e-bb1e-8003cb2b1d92 div.sk-estimator:hover {background-color: #d4ebff;}#sk-1586aa1f-2da7-4b0e-bb1e-8003cb2b1d92 div.sk-parallel-item::after {content: \"\";width: 100%;border-bottom: 1px solid gray;flex-grow: 1;}#sk-1586aa1f-2da7-4b0e-bb1e-8003cb2b1d92 div.sk-label:hover label.sk-toggleable__label {background-color: #d4ebff;}#sk-1586aa1f-2da7-4b0e-bb1e-8003cb2b1d92 div.sk-serial::before {content: \"\";position: absolute;border-left: 1px solid gray;box-sizing: border-box;top: 2em;bottom: 0;left: 50%;}#sk-1586aa1f-2da7-4b0e-bb1e-8003cb2b1d92 div.sk-serial {display: flex;flex-direction: column;align-items: center;background-color: white;}#sk-1586aa1f-2da7-4b0e-bb1e-8003cb2b1d92 div.sk-item {z-index: 1;}#sk-1586aa1f-2da7-4b0e-bb1e-8003cb2b1d92 div.sk-parallel {display: flex;align-items: stretch;justify-content: center;background-color: white;}#sk-1586aa1f-2da7-4b0e-bb1e-8003cb2b1d92 div.sk-parallel-item {display: flex;flex-direction: column;position: relative;background-color: white;}#sk-1586aa1f-2da7-4b0e-bb1e-8003cb2b1d92 div.sk-parallel-item:first-child::after {align-self: flex-end;width: 50%;}#sk-1586aa1f-2da7-4b0e-bb1e-8003cb2b1d92 div.sk-parallel-item:last-child::after {align-self: flex-start;width: 50%;}#sk-1586aa1f-2da7-4b0e-bb1e-8003cb2b1d92 div.sk-parallel-item:only-child::after {width: 0;}#sk-1586aa1f-2da7-4b0e-bb1e-8003cb2b1d92 div.sk-dashed-wrapped {border: 1px dashed gray;margin: 0.2em;box-sizing: border-box;padding-bottom: 0.1em;background-color: white;position: relative;}#sk-1586aa1f-2da7-4b0e-bb1e-8003cb2b1d92 div.sk-label label {font-family: monospace;font-weight: bold;background-color: white;display: inline-block;line-height: 1.2em;}#sk-1586aa1f-2da7-4b0e-bb1e-8003cb2b1d92 div.sk-label-container {position: relative;z-index: 2;text-align: center;}#sk-1586aa1f-2da7-4b0e-bb1e-8003cb2b1d92 div.sk-container {display: inline-block;position: relative;}</style><div id=\"sk-1586aa1f-2da7-4b0e-bb1e-8003cb2b1d92\" class\"sk-top-container\"><div class=\"sk-container\"><div class=\"sk-item sk-dashed-wrapped\"><div class=\"sk-label-container\"><div class=\"sk-label sk-toggleable\"><input class=\"sk-toggleable__control sk-hidden--visually\" id=\"95252dd2-9b82-4746-b5b9-f75d3602a1e7\" type=\"checkbox\" ><label class=\"sk-toggleable__label\" for=\"95252dd2-9b82-4746-b5b9-f75d3602a1e7\">GridSearchCV</label><div class=\"sk-toggleable__content\"><pre>GridSearchCV(cv=5,\n",
       "             estimator=Pipeline(steps=[('transformer',\n",
       "                                        ColumnTransformer(remainder='passthrough',\n",
       "                                                          transformers=[('onehotencoder',\n",
       "                                                                         OneHotEncoder(drop='if_binary'),\n",
       "                                                                         ['drive',\n",
       "                                                                          'size',\n",
       "                                                                          'cylinders']),\n",
       "                                                                        ('ordinalencoder',\n",
       "                                                                         OrdinalEncoder(categories=[['good',\n",
       "                                                                                                     'excellent',\n",
       "                                                                                                     'fair',\n",
       "                                                                                                     'like '\n",
       "                                                                                                     'new',\n",
       "                                                                                                     'new',\n",
       "                                                                                                     'salvage']]),\n",
       "                                                                         ['condition']),\n",
       "                                                                        ('polynomialfeatures',\n",
       "                                                                         PolynomialFeatures(degree=3,\n",
       "                                                                                            include_bias=False),\n",
       "                                                                         ['odometer'])])),\n",
       "                                       ('ridge', Ridge())]),\n",
       "             param_grid={'ridge__alpha': [0.1, 10, 50, 100, 500, 1000]})</pre></div></div></div><div class=\"sk-parallel\"><div class=\"sk-parallel-item\"><div class=\"sk-item\"><div class=\"sk-serial\"><div class=\"sk-item\"><div class=\"sk-serial\"><div class=\"sk-item sk-dashed-wrapped\"><div class=\"sk-label-container\"><div class=\"sk-label sk-toggleable\"><input class=\"sk-toggleable__control sk-hidden--visually\" id=\"01ede09e-a7df-42d3-ae0c-97b9201909ab\" type=\"checkbox\" ><label class=\"sk-toggleable__label\" for=\"01ede09e-a7df-42d3-ae0c-97b9201909ab\">transformer: ColumnTransformer</label><div class=\"sk-toggleable__content\"><pre>ColumnTransformer(remainder='passthrough',\n",
       "                  transformers=[('onehotencoder',\n",
       "                                 OneHotEncoder(drop='if_binary'),\n",
       "                                 ['drive', 'size', 'cylinders']),\n",
       "                                ('ordinalencoder',\n",
       "                                 OrdinalEncoder(categories=[['good',\n",
       "                                                             'excellent',\n",
       "                                                             'fair', 'like new',\n",
       "                                                             'new',\n",
       "                                                             'salvage']]),\n",
       "                                 ['condition']),\n",
       "                                ('polynomialfeatures',\n",
       "                                 PolynomialFeatures(degree=3,\n",
       "                                                    include_bias=False),\n",
       "                                 ['odometer'])])</pre></div></div></div><div class=\"sk-parallel\"><div class=\"sk-parallel-item\"><div class=\"sk-item\"><div class=\"sk-label-container\"><div class=\"sk-label sk-toggleable\"><input class=\"sk-toggleable__control sk-hidden--visually\" id=\"9c71d532-a979-4026-824f-ec666ea37f9d\" type=\"checkbox\" ><label class=\"sk-toggleable__label\" for=\"9c71d532-a979-4026-824f-ec666ea37f9d\">onehotencoder</label><div class=\"sk-toggleable__content\"><pre>['drive', 'size', 'cylinders']</pre></div></div></div><div class=\"sk-serial\"><div class=\"sk-item\"><div class=\"sk-estimator sk-toggleable\"><input class=\"sk-toggleable__control sk-hidden--visually\" id=\"b963abc7-0839-4d66-a94a-4673bb5dee05\" type=\"checkbox\" ><label class=\"sk-toggleable__label\" for=\"b963abc7-0839-4d66-a94a-4673bb5dee05\">OneHotEncoder</label><div class=\"sk-toggleable__content\"><pre>OneHotEncoder(drop='if_binary')</pre></div></div></div></div></div></div><div class=\"sk-parallel-item\"><div class=\"sk-item\"><div class=\"sk-label-container\"><div class=\"sk-label sk-toggleable\"><input class=\"sk-toggleable__control sk-hidden--visually\" id=\"7faf0e6d-d27d-4a1a-8e18-a3c8ac580627\" type=\"checkbox\" ><label class=\"sk-toggleable__label\" for=\"7faf0e6d-d27d-4a1a-8e18-a3c8ac580627\">ordinalencoder</label><div class=\"sk-toggleable__content\"><pre>['condition']</pre></div></div></div><div class=\"sk-serial\"><div class=\"sk-item\"><div class=\"sk-estimator sk-toggleable\"><input class=\"sk-toggleable__control sk-hidden--visually\" id=\"a9437860-c605-4628-9ce4-d211832b1736\" type=\"checkbox\" ><label class=\"sk-toggleable__label\" for=\"a9437860-c605-4628-9ce4-d211832b1736\">OrdinalEncoder</label><div class=\"sk-toggleable__content\"><pre>OrdinalEncoder(categories=[['good', 'excellent', 'fair', 'like new', 'new',\n",
       "                            'salvage']])</pre></div></div></div></div></div></div><div class=\"sk-parallel-item\"><div class=\"sk-item\"><div class=\"sk-label-container\"><div class=\"sk-label sk-toggleable\"><input class=\"sk-toggleable__control sk-hidden--visually\" id=\"7fb5d93c-0965-45aa-bb4c-19881aca447e\" type=\"checkbox\" ><label class=\"sk-toggleable__label\" for=\"7fb5d93c-0965-45aa-bb4c-19881aca447e\">polynomialfeatures</label><div class=\"sk-toggleable__content\"><pre>['odometer']</pre></div></div></div><div class=\"sk-serial\"><div class=\"sk-item\"><div class=\"sk-estimator sk-toggleable\"><input class=\"sk-toggleable__control sk-hidden--visually\" id=\"e6475093-a8af-4bc7-807e-5edbdbdd623d\" type=\"checkbox\" ><label class=\"sk-toggleable__label\" for=\"e6475093-a8af-4bc7-807e-5edbdbdd623d\">PolynomialFeatures</label><div class=\"sk-toggleable__content\"><pre>PolynomialFeatures(degree=3, include_bias=False)</pre></div></div></div></div></div></div><div class=\"sk-parallel-item\"><div class=\"sk-item\"><div class=\"sk-label-container\"><div class=\"sk-label sk-toggleable\"><input class=\"sk-toggleable__control sk-hidden--visually\" id=\"e58373d1-50be-4617-8911-54aee1d60535\" type=\"checkbox\" ><label class=\"sk-toggleable__label\" for=\"e58373d1-50be-4617-8911-54aee1d60535\">remainder</label><div class=\"sk-toggleable__content\"><pre>[['drive', 'condition', 'odometer', 'size', 'cylinders']]</pre></div></div></div><div class=\"sk-serial\"><div class=\"sk-item\"><div class=\"sk-estimator sk-toggleable\"><input class=\"sk-toggleable__control sk-hidden--visually\" id=\"e6eb54e5-4e35-438b-820e-7cdc916e87b0\" type=\"checkbox\" ><label class=\"sk-toggleable__label\" for=\"e6eb54e5-4e35-438b-820e-7cdc916e87b0\">passthrough</label><div class=\"sk-toggleable__content\"><pre>passthrough</pre></div></div></div></div></div></div></div></div><div class=\"sk-item\"><div class=\"sk-estimator sk-toggleable\"><input class=\"sk-toggleable__control sk-hidden--visually\" id=\"0d584161-37bc-426e-8c9b-2a60a7f900d7\" type=\"checkbox\" ><label class=\"sk-toggleable__label\" for=\"0d584161-37bc-426e-8c9b-2a60a7f900d7\">Ridge</label><div class=\"sk-toggleable__content\"><pre>Ridge()</pre></div></div></div></div></div></div></div></div></div></div></div></div>"
      ],
      "text/plain": [
       "GridSearchCV(cv=5,\n",
       "             estimator=Pipeline(steps=[('transformer',\n",
       "                                        ColumnTransformer(remainder='passthrough',\n",
       "                                                          transformers=[('onehotencoder',\n",
       "                                                                         OneHotEncoder(drop='if_binary'),\n",
       "                                                                         ['drive',\n",
       "                                                                          'size',\n",
       "                                                                          'cylinders']),\n",
       "                                                                        ('ordinalencoder',\n",
       "                                                                         OrdinalEncoder(categories=[['good',\n",
       "                                                                                                     'excellent',\n",
       "                                                                                                     'fair',\n",
       "                                                                                                     'like '\n",
       "                                                                                                     'new',\n",
       "                                                                                                     'new',\n",
       "                                                                                                     'salvage']]),\n",
       "                                                                         ['condition']),\n",
       "                                                                        ('polynomialfeatures',\n",
       "                                                                         PolynomialFeatures(degree=3,\n",
       "                                                                                            include_bias=False),\n",
       "                                                                         ['odometer'])])),\n",
       "                                       ('ridge', Ridge())]),\n",
       "             param_grid={'ridge__alpha': [0.1, 10, 50, 100, 500, 1000]})"
      ]
     },
     "execution_count": 970,
     "metadata": {},
     "output_type": "execute_result"
    }
   ],
   "source": [
    "\n",
    "pipe_ridge = Pipeline([('transformer', polynom_ord_ohe), \n",
    "                        ('ridge', Ridge())\n",
    "                      ]\n",
    "                     )\n",
    "\n",
    "param_dict_ridge =  {'ridge__alpha': [0.1,10,50,100,500,1000]}\n",
    "\n",
    "\n",
    "grid_ridge = GridSearchCV(estimator=pipe_ridge, \n",
    "                          param_grid=param_dict_ridge,\n",
    "                          cv=5\n",
    "                          )\n",
    "\n",
    "\n",
    "grid_ridge.fit(X_train[['drive','condition','odometer','size', 'cylinders']], y_train)"
   ]
  },
  {
   "cell_type": "code",
   "execution_count": 971,
   "metadata": {},
   "outputs": [],
   "source": [
    "ridge_train_preds = grid_ridge.best_estimator_.predict(X_train[['drive','condition','odometer','size', 'cylinders']])\n",
    "ridge_test_preds  = grid_ridge.best_estimator_.predict(X_test[['drive','condition','odometer','size', 'cylinders']])\n",
    "\n",
    "ridge_mse_train = mean_squared_error(y_train, ridge_train_preds)\n",
    "ridge_mse_test = mean_squared_error(y_test, ridge_test_preds)"
   ]
  },
  {
   "cell_type": "code",
   "execution_count": 972,
   "metadata": {},
   "outputs": [
    {
     "name": "stdout",
     "output_type": "stream",
     "text": [
      "Mean Squared Error for train set of Ridge Model= 72839994975651.73\n",
      "Mean Squared Error for test set of Ridge Model= 266941162611494.1\n"
     ]
    }
   ],
   "source": [
    "print('Mean Squared Error for train set of Ridge Model=',ridge_mse_train)\n",
    "print('Mean Squared Error for test set of Ridge Model=',ridge_mse_test)"
   ]
  },
  {
   "cell_type": "code",
   "execution_count": 973,
   "metadata": {},
   "outputs": [
    {
     "data": {
      "text/html": [
       "<style>#sk-d7783ea2-14e3-464c-bd8e-f6ffb9cd63b3 {color: black;background-color: white;}#sk-d7783ea2-14e3-464c-bd8e-f6ffb9cd63b3 pre{padding: 0;}#sk-d7783ea2-14e3-464c-bd8e-f6ffb9cd63b3 div.sk-toggleable {background-color: white;}#sk-d7783ea2-14e3-464c-bd8e-f6ffb9cd63b3 label.sk-toggleable__label {cursor: pointer;display: block;width: 100%;margin-bottom: 0;padding: 0.2em 0.3em;box-sizing: border-box;text-align: center;}#sk-d7783ea2-14e3-464c-bd8e-f6ffb9cd63b3 div.sk-toggleable__content {max-height: 0;max-width: 0;overflow: hidden;text-align: left;background-color: #f0f8ff;}#sk-d7783ea2-14e3-464c-bd8e-f6ffb9cd63b3 div.sk-toggleable__content pre {margin: 0.2em;color: black;border-radius: 0.25em;background-color: #f0f8ff;}#sk-d7783ea2-14e3-464c-bd8e-f6ffb9cd63b3 input.sk-toggleable__control:checked~div.sk-toggleable__content {max-height: 200px;max-width: 100%;overflow: auto;}#sk-d7783ea2-14e3-464c-bd8e-f6ffb9cd63b3 div.sk-estimator input.sk-toggleable__control:checked~label.sk-toggleable__label {background-color: #d4ebff;}#sk-d7783ea2-14e3-464c-bd8e-f6ffb9cd63b3 div.sk-label input.sk-toggleable__control:checked~label.sk-toggleable__label {background-color: #d4ebff;}#sk-d7783ea2-14e3-464c-bd8e-f6ffb9cd63b3 input.sk-hidden--visually {border: 0;clip: rect(1px 1px 1px 1px);clip: rect(1px, 1px, 1px, 1px);height: 1px;margin: -1px;overflow: hidden;padding: 0;position: absolute;width: 1px;}#sk-d7783ea2-14e3-464c-bd8e-f6ffb9cd63b3 div.sk-estimator {font-family: monospace;background-color: #f0f8ff;margin: 0.25em 0.25em;border: 1px dotted black;border-radius: 0.25em;box-sizing: border-box;}#sk-d7783ea2-14e3-464c-bd8e-f6ffb9cd63b3 div.sk-estimator:hover {background-color: #d4ebff;}#sk-d7783ea2-14e3-464c-bd8e-f6ffb9cd63b3 div.sk-parallel-item::after {content: \"\";width: 100%;border-bottom: 1px solid gray;flex-grow: 1;}#sk-d7783ea2-14e3-464c-bd8e-f6ffb9cd63b3 div.sk-label:hover label.sk-toggleable__label {background-color: #d4ebff;}#sk-d7783ea2-14e3-464c-bd8e-f6ffb9cd63b3 div.sk-serial::before {content: \"\";position: absolute;border-left: 1px solid gray;box-sizing: border-box;top: 2em;bottom: 0;left: 50%;}#sk-d7783ea2-14e3-464c-bd8e-f6ffb9cd63b3 div.sk-serial {display: flex;flex-direction: column;align-items: center;background-color: white;}#sk-d7783ea2-14e3-464c-bd8e-f6ffb9cd63b3 div.sk-item {z-index: 1;}#sk-d7783ea2-14e3-464c-bd8e-f6ffb9cd63b3 div.sk-parallel {display: flex;align-items: stretch;justify-content: center;background-color: white;}#sk-d7783ea2-14e3-464c-bd8e-f6ffb9cd63b3 div.sk-parallel-item {display: flex;flex-direction: column;position: relative;background-color: white;}#sk-d7783ea2-14e3-464c-bd8e-f6ffb9cd63b3 div.sk-parallel-item:first-child::after {align-self: flex-end;width: 50%;}#sk-d7783ea2-14e3-464c-bd8e-f6ffb9cd63b3 div.sk-parallel-item:last-child::after {align-self: flex-start;width: 50%;}#sk-d7783ea2-14e3-464c-bd8e-f6ffb9cd63b3 div.sk-parallel-item:only-child::after {width: 0;}#sk-d7783ea2-14e3-464c-bd8e-f6ffb9cd63b3 div.sk-dashed-wrapped {border: 1px dashed gray;margin: 0.2em;box-sizing: border-box;padding-bottom: 0.1em;background-color: white;position: relative;}#sk-d7783ea2-14e3-464c-bd8e-f6ffb9cd63b3 div.sk-label label {font-family: monospace;font-weight: bold;background-color: white;display: inline-block;line-height: 1.2em;}#sk-d7783ea2-14e3-464c-bd8e-f6ffb9cd63b3 div.sk-label-container {position: relative;z-index: 2;text-align: center;}#sk-d7783ea2-14e3-464c-bd8e-f6ffb9cd63b3 div.sk-container {display: inline-block;position: relative;}</style><div id=\"sk-d7783ea2-14e3-464c-bd8e-f6ffb9cd63b3\" class\"sk-top-container\"><div class=\"sk-container\"><div class=\"sk-item sk-dashed-wrapped\"><div class=\"sk-label-container\"><div class=\"sk-label sk-toggleable\"><input class=\"sk-toggleable__control sk-hidden--visually\" id=\"5d2babf8-27bc-42e4-848b-f0241a03da0f\" type=\"checkbox\" ><label class=\"sk-toggleable__label\" for=\"5d2babf8-27bc-42e4-848b-f0241a03da0f\">Pipeline</label><div class=\"sk-toggleable__content\"><pre>Pipeline(steps=[('transformer',\n",
       "                 ColumnTransformer(remainder='passthrough',\n",
       "                                   transformers=[('onehotencoder',\n",
       "                                                  OneHotEncoder(drop='if_binary'),\n",
       "                                                  ['drive', 'size',\n",
       "                                                   'cylinders']),\n",
       "                                                 ('ordinalencoder',\n",
       "                                                  OrdinalEncoder(categories=[['good',\n",
       "                                                                              'excellent',\n",
       "                                                                              'fair',\n",
       "                                                                              'like '\n",
       "                                                                              'new',\n",
       "                                                                              'new',\n",
       "                                                                              'salvage']]),\n",
       "                                                  ['condition']),\n",
       "                                                 ('polynomialfeatures',\n",
       "                                                  PolynomialFeatures(degree=3,\n",
       "                                                                     include_bias=False),\n",
       "                                                  ['odometer'])])),\n",
       "                ('ridge', Ridge(alpha=1000))])</pre></div></div></div><div class=\"sk-serial\"><div class=\"sk-item sk-dashed-wrapped\"><div class=\"sk-label-container\"><div class=\"sk-label sk-toggleable\"><input class=\"sk-toggleable__control sk-hidden--visually\" id=\"4e7cda02-bd41-438b-852d-660ccc07ca95\" type=\"checkbox\" ><label class=\"sk-toggleable__label\" for=\"4e7cda02-bd41-438b-852d-660ccc07ca95\">transformer: ColumnTransformer</label><div class=\"sk-toggleable__content\"><pre>ColumnTransformer(remainder='passthrough',\n",
       "                  transformers=[('onehotencoder',\n",
       "                                 OneHotEncoder(drop='if_binary'),\n",
       "                                 ['drive', 'size', 'cylinders']),\n",
       "                                ('ordinalencoder',\n",
       "                                 OrdinalEncoder(categories=[['good',\n",
       "                                                             'excellent',\n",
       "                                                             'fair', 'like new',\n",
       "                                                             'new',\n",
       "                                                             'salvage']]),\n",
       "                                 ['condition']),\n",
       "                                ('polynomialfeatures',\n",
       "                                 PolynomialFeatures(degree=3,\n",
       "                                                    include_bias=False),\n",
       "                                 ['odometer'])])</pre></div></div></div><div class=\"sk-parallel\"><div class=\"sk-parallel-item\"><div class=\"sk-item\"><div class=\"sk-label-container\"><div class=\"sk-label sk-toggleable\"><input class=\"sk-toggleable__control sk-hidden--visually\" id=\"c7d892b5-bd8e-4420-b4de-798fd633c631\" type=\"checkbox\" ><label class=\"sk-toggleable__label\" for=\"c7d892b5-bd8e-4420-b4de-798fd633c631\">onehotencoder</label><div class=\"sk-toggleable__content\"><pre>['drive', 'size', 'cylinders']</pre></div></div></div><div class=\"sk-serial\"><div class=\"sk-item\"><div class=\"sk-estimator sk-toggleable\"><input class=\"sk-toggleable__control sk-hidden--visually\" id=\"84a0d8d6-62ad-481f-aeb9-8128e0e76ff1\" type=\"checkbox\" ><label class=\"sk-toggleable__label\" for=\"84a0d8d6-62ad-481f-aeb9-8128e0e76ff1\">OneHotEncoder</label><div class=\"sk-toggleable__content\"><pre>OneHotEncoder(drop='if_binary')</pre></div></div></div></div></div></div><div class=\"sk-parallel-item\"><div class=\"sk-item\"><div class=\"sk-label-container\"><div class=\"sk-label sk-toggleable\"><input class=\"sk-toggleable__control sk-hidden--visually\" id=\"da6e1d14-81eb-4d53-9656-b203d549b23a\" type=\"checkbox\" ><label class=\"sk-toggleable__label\" for=\"da6e1d14-81eb-4d53-9656-b203d549b23a\">ordinalencoder</label><div class=\"sk-toggleable__content\"><pre>['condition']</pre></div></div></div><div class=\"sk-serial\"><div class=\"sk-item\"><div class=\"sk-estimator sk-toggleable\"><input class=\"sk-toggleable__control sk-hidden--visually\" id=\"17e92777-3c33-463e-b18f-a06f9448a146\" type=\"checkbox\" ><label class=\"sk-toggleable__label\" for=\"17e92777-3c33-463e-b18f-a06f9448a146\">OrdinalEncoder</label><div class=\"sk-toggleable__content\"><pre>OrdinalEncoder(categories=[['good', 'excellent', 'fair', 'like new', 'new',\n",
       "                            'salvage']])</pre></div></div></div></div></div></div><div class=\"sk-parallel-item\"><div class=\"sk-item\"><div class=\"sk-label-container\"><div class=\"sk-label sk-toggleable\"><input class=\"sk-toggleable__control sk-hidden--visually\" id=\"a6b3a14e-2823-4ea2-b975-1f36f10c699a\" type=\"checkbox\" ><label class=\"sk-toggleable__label\" for=\"a6b3a14e-2823-4ea2-b975-1f36f10c699a\">polynomialfeatures</label><div class=\"sk-toggleable__content\"><pre>['odometer']</pre></div></div></div><div class=\"sk-serial\"><div class=\"sk-item\"><div class=\"sk-estimator sk-toggleable\"><input class=\"sk-toggleable__control sk-hidden--visually\" id=\"bd769421-fabc-49fe-853a-5e8a988b7cb1\" type=\"checkbox\" ><label class=\"sk-toggleable__label\" for=\"bd769421-fabc-49fe-853a-5e8a988b7cb1\">PolynomialFeatures</label><div class=\"sk-toggleable__content\"><pre>PolynomialFeatures(degree=3, include_bias=False)</pre></div></div></div></div></div></div><div class=\"sk-parallel-item\"><div class=\"sk-item\"><div class=\"sk-label-container\"><div class=\"sk-label sk-toggleable\"><input class=\"sk-toggleable__control sk-hidden--visually\" id=\"8daf9760-75be-4905-8f3c-e5ac379bfed0\" type=\"checkbox\" ><label class=\"sk-toggleable__label\" for=\"8daf9760-75be-4905-8f3c-e5ac379bfed0\">remainder</label><div class=\"sk-toggleable__content\"><pre>[['drive', 'condition', 'odometer', 'size', 'cylinders']]</pre></div></div></div><div class=\"sk-serial\"><div class=\"sk-item\"><div class=\"sk-estimator sk-toggleable\"><input class=\"sk-toggleable__control sk-hidden--visually\" id=\"741b5c98-f319-41d5-8c41-087a3d685964\" type=\"checkbox\" ><label class=\"sk-toggleable__label\" for=\"741b5c98-f319-41d5-8c41-087a3d685964\">passthrough</label><div class=\"sk-toggleable__content\"><pre>passthrough</pre></div></div></div></div></div></div></div></div><div class=\"sk-item\"><div class=\"sk-estimator sk-toggleable\"><input class=\"sk-toggleable__control sk-hidden--visually\" id=\"0778abc0-8d14-4071-abc8-61a61abfe15c\" type=\"checkbox\" ><label class=\"sk-toggleable__label\" for=\"0778abc0-8d14-4071-abc8-61a61abfe15c\">Ridge</label><div class=\"sk-toggleable__content\"><pre>Ridge(alpha=1000)</pre></div></div></div></div></div></div></div>"
      ],
      "text/plain": [
       "Pipeline(steps=[('transformer',\n",
       "                 ColumnTransformer(remainder='passthrough',\n",
       "                                   transformers=[('onehotencoder',\n",
       "                                                  OneHotEncoder(drop='if_binary'),\n",
       "                                                  ['drive', 'size',\n",
       "                                                   'cylinders']),\n",
       "                                                 ('ordinalencoder',\n",
       "                                                  OrdinalEncoder(categories=[['good',\n",
       "                                                                              'excellent',\n",
       "                                                                              'fair',\n",
       "                                                                              'like '\n",
       "                                                                              'new',\n",
       "                                                                              'new',\n",
       "                                                                              'salvage']]),\n",
       "                                                  ['condition']),\n",
       "                                                 ('polynomialfeatures',\n",
       "                                                  PolynomialFeatures(degree=3,\n",
       "                                                                     include_bias=False),\n",
       "                                                  ['odometer'])])),\n",
       "                ('ridge', Ridge(alpha=1000))])"
      ]
     },
     "execution_count": 973,
     "metadata": {},
     "output_type": "execute_result"
    }
   ],
   "source": [
    " grid_ridge.best_estimator_"
   ]
  },
  {
   "cell_type": "code",
   "execution_count": 974,
   "metadata": {},
   "outputs": [
    {
     "data": {
      "text/plain": [
       "-1.9025912113081442"
      ]
     },
     "execution_count": 974,
     "metadata": {},
     "output_type": "execute_result"
    }
   ],
   "source": [
    "grid_ridge.best_score_"
   ]
  },
  {
   "cell_type": "code",
   "execution_count": 975,
   "metadata": {},
   "outputs": [
    {
     "data": {
      "text/plain": [
       "{'ridge__alpha': 1000}"
      ]
     },
     "execution_count": 975,
     "metadata": {},
     "output_type": "execute_result"
    }
   ],
   "source": [
    "grid_ridge.best_params_"
   ]
  },
  {
   "cell_type": "markdown",
   "metadata": {},
   "source": [
    "#### Comparing the mean squared error"
   ]
  },
  {
   "cell_type": "code",
   "execution_count": 976,
   "metadata": {},
   "outputs": [
    {
     "data": {
      "text/plain": [
       "True"
      ]
     },
     "execution_count": 976,
     "metadata": {},
     "output_type": "execute_result"
    }
   ],
   "source": [
    "(ridge_mse_test>linreg_mse_test)"
   ]
  },
  {
   "cell_type": "markdown",
   "metadata": {},
   "source": [
    "### Evaluation\n",
    "\n",
    "With some modeling accomplished, we aim to reflect on what we identify as a high quality model and what we are able to learn from this.  We should review our business objective and explore how well we can provide meaningful insight on drivers of used car prices.  Your goal now is to distill your findings and determine whether the earlier phases need revisitation and adjustment or if you have information of value to bring back to your client."
   ]
  },
  {
   "cell_type": "markdown",
   "metadata": {},
   "source": [
    "Our business objective is to find what can be the characteristics that drive the price of a used car. We have made two models for this purpose: A normal linear regression and a Ridge Regression. \n",
    "\n",
    "We have entered a given number of features in our models whcih chould represent the most important features. According to the coefficients found in the basic linear regression, we fond out that odometer is not a key factor that can lead to price, at least not as impacting as the other.\n",
    "\n",
    "This can represent a considerable information for a used car dealer since they will not take this factor into acocunt. Ususally we might think that it is an importnat factor, but it turns out that it is not, at leats as mush as the others.\n",
    "\n",
    "Something that can be done in a possible future stage to improve the analysis, is to include much more feature. This can require some computation power, but in a professional context this can be necesasry if we want to make more accurtae business decisions.\n",
    "\n",
    "Including data can be an expensive and not always possible task, but, if it can be obtained some way, it can be very helpful"
   ]
  },
  {
   "cell_type": "markdown",
   "metadata": {},
   "source": [
    "### Deployment\n",
    "\n",
    "Now that we've settled on our models and findings, it is time to deliver the information to the client.  You should organize your work as a basic report that details your primary findings.  Keep in mind that your audience is a group of used car dealers interested in fine tuning their inventory."
   ]
  },
  {
   "cell_type": "markdown",
   "metadata": {},
   "source": [
    "An analysis has been done in order to determine what are the main factors that you should consider for your business. Your inventory can be composed by cars with different characteristics. This analysis will help you to decide what are the characteristics that you should consider as important and which are not.\n",
    "\n",
    "The characteristics that have been taken into acocunt for this analysis are:\n",
    "\n",
    "- Drive\n",
    "- Size\n",
    "- Cylinders\n",
    "- Condition\n",
    "- Odometer\n",
    "\n",
    "Among these features, you should not consider odometer as a high-valuable parameter since, contarry to intuition, this does not represent a key factor for customers."
   ]
  }
 ],
 "metadata": {
  "kernelspec": {
   "display_name": "Python 3 (ipykernel)",
   "language": "python",
   "name": "python3"
  },
  "language_info": {
   "codemirror_mode": {
    "name": "ipython",
    "version": 3
   },
   "file_extension": ".py",
   "mimetype": "text/x-python",
   "name": "python",
   "nbconvert_exporter": "python",
   "pygments_lexer": "ipython3",
   "version": "3.9.7"
  },
  "widgets": {
   "application/vnd.jupyter.widget-state+json": {
    "state": {},
    "version_major": 2,
    "version_minor": 0
   }
  }
 },
 "nbformat": 4,
 "nbformat_minor": 4
}
